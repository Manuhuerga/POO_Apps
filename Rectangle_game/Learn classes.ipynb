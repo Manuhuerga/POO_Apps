{
 "cells": [
  {
   "cell_type": "markdown",
   "metadata": {},
   "source": [
    "# Learn classes \n",
    "\n",
    "Below is a set of steps for you to follow to try to create the Tic Tac Toe Milestone Project game!"
   ]
  },
  {
   "cell_type": "markdown",
   "metadata": {},
   "source": [
    "**Step 1: Write a function that can print out a board. Set up your board as a list, where each index 1-9 corresponds with a number on a number pad, so you get a 3 by 3 board representation.**"
   ]
  },
  {
   "cell_type": "code",
   "execution_count": 60,
   "metadata": {
    "collapsed": true
   },
   "outputs": [
    {
     "name": "stdout",
     "output_type": "stream",
     "text": [
      "The coordenates are: (2,7) (4,31)\n"
     ]
    },
    {
     "data": {
      "text/plain": [
       "'atroden'"
      ]
     },
     "execution_count": 60,
     "metadata": {},
     "output_type": "execute_result"
    }
   ],
   "source": [
    "import random\n",
    "\n",
    "class Coordinate:\n",
    "\n",
    "    def __init__(self,x=0,y=0):\n",
    "        self.x = x\n",
    "        self.y = y\n",
    "\n",
    "    def ramdomize (self,rectangle = 0):\n",
    "        self.rectangle =  [random.randint(0,10*(i+1)) for i in range(4)]\n",
    "        self.rectangle.sort()\n",
    "        return self.rectangle\n",
    "\n",
    "    def ishere (self,x,y):\n",
    "        \n",
    "        if x > self.rectangle[0] and x < self.rectangle[1]:\n",
    "            \n",
    "            return ('atroden')\n",
    "        else:\n",
    "            return ('fuera')\n",
    "\n",
    "def takeavalue():\n",
    "    loop = True\n",
    "    while(loop):\n",
    "        try:\n",
    "            x = int(input('Input x coordenate: '))\n",
    "            y = int(input('y coordinate: '))\n",
    "            return x,y\n",
    "        except:\n",
    "            print('Please a integer number')\n",
    "        else:\n",
    "            loop = False\n",
    "\n",
    "\n",
    "coord = Coordinate()\n",
    "c = coord.ramdomize()\n",
    "print (f'The coordenates are: ({c[0]},{c[2]}) ({c[1]},{c[3]})')\n",
    "\n",
    "x = takeavalue()\n",
    "\n",
    "coord.ishere(x[0],x[1])\n",
    "\n",
    "\n",
    "\n",
    "\n",
    "\n",
    "\n"
   ]
  },
  {
   "cell_type": "code",
   "execution_count": 133,
   "metadata": {},
   "outputs": [
    {
     "name": "stdout",
     "output_type": "stream",
     "text": [
      "The coordinates of rectangle is: (5, 5)(12, 7)\n",
      "Rectangle area is 14\n",
      "Your suposition is:  True\n"
     ]
    },
    {
     "ename": "ValueError",
     "evalue": "invalid literal for int() with base 10: ''",
     "output_type": "error",
     "traceback": [
      "\u001b[1;31m---------------------------------------------------------------------------\u001b[0m",
      "\u001b[1;31mValueError\u001b[0m                                Traceback (most recent call last)",
      "\u001b[1;32m~\\AppData\\Local\\Temp/ipykernel_7684/1330978649.py\u001b[0m in \u001b[0;36m<module>\u001b[1;34m\u001b[0m\n\u001b[0;32m     37\u001b[0m \u001b[0mprint\u001b[0m\u001b[1;33m(\u001b[0m\u001b[1;34m'Your suposition is: '\u001b[0m\u001b[1;33m,\u001b[0m \u001b[0mrect\u001b[0m\u001b[1;33m.\u001b[0m\u001b[0marea\u001b[0m\u001b[1;33m(\u001b[0m\u001b[1;33m)\u001b[0m \u001b[1;33m==\u001b[0m \u001b[0muser_area\u001b[0m\u001b[1;33m)\u001b[0m\u001b[1;33m\u001b[0m\u001b[1;33m\u001b[0m\u001b[0m\n\u001b[0;32m     38\u001b[0m \u001b[1;33m\u001b[0m\u001b[0m\n\u001b[1;32m---> 39\u001b[1;33m \u001b[0mpoint\u001b[0m \u001b[1;33m=\u001b[0m \u001b[0mPoint\u001b[0m\u001b[1;33m(\u001b[0m\u001b[0mint\u001b[0m\u001b[1;33m(\u001b[0m\u001b[0minput\u001b[0m\u001b[1;33m(\u001b[0m\u001b[1;34m'Input x coordinate: '\u001b[0m\u001b[1;33m)\u001b[0m\u001b[1;33m)\u001b[0m\u001b[1;33m,\u001b[0m \u001b[0mint\u001b[0m\u001b[1;33m(\u001b[0m\u001b[0minput\u001b[0m\u001b[1;33m(\u001b[0m\u001b[1;34m'Input y coordinates: '\u001b[0m\u001b[1;33m)\u001b[0m\u001b[1;33m)\u001b[0m\u001b[1;33m)\u001b[0m\u001b[1;33m\u001b[0m\u001b[1;33m\u001b[0m\u001b[0m\n\u001b[0m\u001b[0;32m     40\u001b[0m \u001b[1;33m\u001b[0m\u001b[0m\n\u001b[0;32m     41\u001b[0m \u001b[0mprint\u001b[0m\u001b[1;33m(\u001b[0m\u001b[0mpoint\u001b[0m\u001b[1;33m.\u001b[0m\u001b[0mfalls_in_rectangle\u001b[0m\u001b[1;33m(\u001b[0m\u001b[0mrect\u001b[0m\u001b[1;33m)\u001b[0m\u001b[1;33m)\u001b[0m\u001b[1;33m\u001b[0m\u001b[1;33m\u001b[0m\u001b[0m\n",
      "\u001b[1;31mValueError\u001b[0m: invalid literal for int() with base 10: ''"
     ]
    }
   ],
   "source": [
    "import random\n",
    "\n",
    "class Point:\n",
    "\n",
    "    def __init__(self,x,y):\n",
    "        self.x = x\n",
    "        self.y = y\n",
    "\n",
    "    def falls_in_rectangle (self, rect):\n",
    "        if rect.point1.x < self.x < rect.point2.x and rect.point1.y < self.y < rect.point2.y:\n",
    "            return True\n",
    "        else:\n",
    "            return False\n",
    "    \n",
    "    def distance(self,point):\n",
    "        return ((self.x - point.x)**2 + (self.y - point.y)**2)**1/2\n",
    "        \n",
    "class Rectangle:\n",
    "\n",
    "    def __init__(self, point1,point2 ):\n",
    "        self.point1 = point1\n",
    "        self.point2 = point2\n",
    "    \n",
    "    def area (self):\n",
    "        return (self.point2.x - self.point1.x) * (self.point2.y - self.point1.y)\n",
    "\n",
    "\n",
    "\n",
    "point1 = Point(random.randint(0,10),random.randint(0,10))\n",
    "point2 = Point(random.randint(10,20),random.randint(0,20))\n",
    "\n",
    "print(f'The coordinates of rectangle is: {point1.x,point1.y}{point2.x,point2.y}')\n",
    "\n",
    "rect = Rectangle(point1, point2)\n",
    "user_area = int(input('Input your area: '))\n",
    "print(f'Rectangle area is {rect.area()}')\n",
    "print('Your suposition is: ', rect.area() == user_area3)\n",
    "\n",
    "point = Point(int(input('Input x coordinate: ')), int(input('Input y coordinates: ')))\n",
    "\n",
    "print(point.falls_in_rectangle(rect))\n",
    "point3 = Point(10,10)\n",
    "print(point.distance(point3))\n"
   ]
  },
  {
   "cell_type": "code",
   "execution_count": null,
   "metadata": {},
   "outputs": [],
   "source": []
  }
 ],
 "metadata": {
  "kernelspec": {
   "display_name": "Python 3",
   "language": "python",
   "name": "python3"
  },
  "language_info": {
   "codemirror_mode": {
    "name": "ipython",
    "version": 3
   },
   "file_extension": ".py",
   "mimetype": "text/x-python",
   "name": "python",
   "nbconvert_exporter": "python",
   "pygments_lexer": "ipython3",
   "version": "3.10.0"
  }
 },
 "nbformat": 4,
 "nbformat_minor": 1
}
